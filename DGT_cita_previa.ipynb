{
 "cells": [
  {
   "cell_type": "code",
   "execution_count": 1,
   "metadata": {},
   "outputs": [],
   "source": [
    "from pathlib import Path\n",
    "from selenium import webdriver\n",
    "from selenium.webdriver.common.keys import Keys\n",
    "from selenium.common.exceptions import NoSuchElementException\n",
    "import time\n",
    "import ctypes\n",
    "import logging\n",
    "from datetime import date\n",
    "from random import randint"
   ]
  },
  {
   "cell_type": "markdown",
   "metadata": {},
   "source": [
    "# Hardcoded variables"
   ]
  },
  {
   "cell_type": "code",
   "execution_count": 2,
   "metadata": {},
   "outputs": [],
   "source": [
    "url = r'https://sedeclave.dgt.gob.es/WEB_NCIT_CONSULTA/solicitarCita.faces'"
   ]
  },
  {
   "cell_type": "code",
   "execution_count": 3,
   "metadata": {},
   "outputs": [],
   "source": [
    "oficina = 'Ávila'\n",
    "#oficina = 'Madrid'\n",
    "#oficina = 'Badajoz'\n",
    "\n",
    "trámite = 'Trámites de oficina'"
   ]
  },
  {
   "cell_type": "code",
   "execution_count": 4,
   "metadata": {},
   "outputs": [],
   "source": [
    "driver_path = Path('chromedriver.exe')"
   ]
  },
  {
   "cell_type": "code",
   "execution_count": 5,
   "metadata": {},
   "outputs": [],
   "source": [
    "datemark = date.today().strftime(\"%Y%m%d\")"
   ]
  },
  {
   "cell_type": "code",
   "execution_count": 6,
   "metadata": {},
   "outputs": [],
   "source": [
    "log_path = Path(f'{datemark}_DGT_cita_previa.log')"
   ]
  },
  {
   "cell_type": "markdown",
   "metadata": {},
   "source": [
    "# Aux functions"
   ]
  },
  {
   "cell_type": "code",
   "execution_count": 7,
   "metadata": {},
   "outputs": [],
   "source": [
    "def launch_site(driver_path, url):\n",
    "    driver = webdriver.Chrome(str(driver_path))\n",
    "    driver.implicitly_wait(3)\n",
    "    driver.get(url)\n",
    "    return driver"
   ]
  },
  {
   "cell_type": "code",
   "execution_count": 8,
   "metadata": {},
   "outputs": [],
   "source": [
    "def fill_office(driver):\n",
    "    elem = driver.find_element_by_id('publicacionesForm:oficina')\n",
    "    elem.click()\n",
    "    time.sleep(randint(1,5))\n",
    "    elem.send_keys(oficina + Keys.ENTER)"
   ]
  },
  {
   "cell_type": "code",
   "execution_count": 9,
   "metadata": {},
   "outputs": [],
   "source": [
    "def fill_query(driver):\n",
    "    elem = driver.find_element_by_id('publicacionesForm:tipoTramite')\n",
    "    elem.click()\n",
    "    time.sleep(randint(1,2))\n",
    "    elem.send_keys(trámite + Keys.ENTER)"
   ]
  },
  {
   "cell_type": "code",
   "execution_count": 10,
   "metadata": {},
   "outputs": [],
   "source": [
    "def click_continue(driver):\n",
    "    elem = driver.find_element_by_css_selector('#publicacionesForm\\:j_id59 > input')\n",
    "    elem.click()"
   ]
  },
  {
   "cell_type": "code",
   "execution_count": 11,
   "metadata": {},
   "outputs": [],
   "source": [
    "def query_office(driver):\n",
    "    fill_office(driver)\n",
    "    fill_query(driver)\n",
    "    time.sleep(randint(1,3))\n",
    "    click_continue(driver)"
   ]
  },
  {
   "cell_type": "code",
   "execution_count": 12,
   "metadata": {},
   "outputs": [],
   "source": [
    "def query_until(driver, freq=5, randomize=True):\n",
    "    query_office(driver)\n",
    "    time.sleep(5 + randint(0,5))\n",
    "    \n",
    "    retry = False\n",
    "    if fully_booked(driver):\n",
    "        logging.warning(f'Failed: fully booked')\n",
    "        retry = True\n",
    "        \n",
    "    elif request_overflow(driver):\n",
    "        logging.warning(f'Failed: request overflow')\n",
    "        retry = True\n",
    "    \n",
    "    if retry:\n",
    "        secs = freq * 60\n",
    "        if randomize:\n",
    "            secs += randint(0, secs)  # add up to double freq (random)\n",
    "        time.sleep(secs)\n",
    "        query_until(driver, freq)\n",
    "    else:\n",
    "        logging.warning(f'Success: appointment available')\n",
    "        # bring to front\n",
    "        driver.minimize_window()  \n",
    "        driver.maximize_window()\n",
    "        # message box\n",
    "        title = 'ALERT'\n",
    "        text = 'Appointment available'\n",
    "        ctypes.windll.user32.MessageBoxW(0, text, title, 0x00001000)"
   ]
  },
  {
   "cell_type": "code",
   "execution_count": 13,
   "metadata": {},
   "outputs": [],
   "source": [
    "def fully_booked(driver):\n",
    "    try:\n",
    "        elem = driver.find_element_by_class_name('msgError')\n",
    "        return elem.text == 'El horario de atención al cliente está completo para los próximos días. Inténtelo más tarde.'\n",
    "    except NoSuchElementException:\n",
    "        return False"
   ]
  },
  {
   "cell_type": "code",
   "execution_count": 14,
   "metadata": {},
   "outputs": [],
   "source": [
    "def request_overflow(driver):\n",
    "    try:\n",
    "        elem = driver.find_element_by_class_name('msgError')\n",
    "        return elem.text == 'Estamos recibiendo un número muy elevado de accesos que no nos permiten procesar tu petición. Por favor, inténtalo de nuevo pasados unos minutos.'\n",
    "    except NoSuchElementException:\n",
    "        return False"
   ]
  },
  {
   "cell_type": "code",
   "execution_count": 15,
   "metadata": {},
   "outputs": [],
   "source": [
    "def available_areas(driver):\n",
    "    try:\n",
    "        elems = driver.find_elements_by_xpath(\"//*[contains(text(), 'Área: ')]\")\n",
    "        return [e.text for e in elems]\n",
    "    except NoSuchElementException:\n",
    "        return list()"
   ]
  },
  {
   "cell_type": "code",
   "execution_count": 16,
   "metadata": {},
   "outputs": [],
   "source": [
    "def areas_buttons(driver):\n",
    "    try:\n",
    "        elems = driver.find_elements_by_xpath(\"//*[contains(@title, 'Continuar')]\")\n",
    "        return elems\n",
    "    except NoSuchElementException:\n",
    "        return list()"
   ]
  },
  {
   "cell_type": "code",
   "execution_count": 17,
   "metadata": {},
   "outputs": [],
   "source": [
    "def areas_dict(driver):\n",
    "    return dict(zip(available_areas(driver), areas_buttons(driver)))"
   ]
  },
  {
   "cell_type": "code",
   "execution_count": 18,
   "metadata": {},
   "outputs": [],
   "source": [
    "def launch_logger(log_path, overwrite=False):\n",
    "    \n",
    "    # Check\n",
    "    if log_path.exists(): \n",
    "        if overwrite:\n",
    "            log_path.unlink()\n",
    "        else:\n",
    "            raise FileExistsError(log_path)\n",
    "            \n",
    "    FORMAT = '%(asctime)s,%(name)s,%(levelname)s,%(message)s'\n",
    "    logging.basicConfig(filename=log_path, format=FORMAT, level=logging.WARNING)"
   ]
  },
  {
   "cell_type": "code",
   "execution_count": 19,
   "metadata": {},
   "outputs": [],
   "source": [
    "if __name__ == '__main__':\n",
    "    \n",
    "    launch_logger(log_path, overwrite=True)\n",
    "    driver = launch_site(driver_path, url)\n",
    "    query_until(driver, freq=5)\n",
    "    buttons = areas_dict(driver)"
   ]
  },
  {
   "cell_type": "code",
   "execution_count": 20,
   "metadata": {},
   "outputs": [
    {
     "data": {
      "text/plain": [
       "{'Área: Trámites generales': <selenium.webdriver.remote.webelement.WebElement (session=\"7f0364cbf7a839be8e1b85f36fe1e368\", element=\"6531740a-e5a1-4a89-9bc8-fda551c23970\")>}"
      ]
     },
     "execution_count": 20,
     "metadata": {},
     "output_type": "execute_result"
    }
   ],
   "source": [
    "buttons"
   ]
  },
  {
   "cell_type": "code",
   "execution_count": 21,
   "metadata": {},
   "outputs": [],
   "source": [
    "#driver.close()\n",
    "logging.shutdown()"
   ]
  }
 ],
 "metadata": {
  "kernelspec": {
   "display_name": "Python 3",
   "language": "python",
   "name": "python3"
  },
  "language_info": {
   "codemirror_mode": {
    "name": "ipython",
    "version": 3
   },
   "file_extension": ".py",
   "mimetype": "text/x-python",
   "name": "python",
   "nbconvert_exporter": "python",
   "pygments_lexer": "ipython3",
   "version": "3.7.4"
  }
 },
 "nbformat": 4,
 "nbformat_minor": 2
}
